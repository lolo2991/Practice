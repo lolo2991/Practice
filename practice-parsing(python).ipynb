{
 "cells": [
  {
   "cell_type": "code",
   "execution_count": 4,
   "metadata": {},
   "outputs": [],
   "source": [
    "import requests\n",
    "url=\"https://en.wikipedia.org/wiki/Bobby_(rapper)\"\n",
    "response=requests.get(url)\n",
    "page=response.content\n"
   ]
  },
  {
   "cell_type": "code",
   "execution_count": 10,
   "metadata": {},
   "outputs": [],
   "source": [
    "from bs4 import BeautifulSoup\n",
    "soup= BeautifulSoup(page, 'html.parser')\n",
    "person_info =soup.find('table', {\"class\":\"infobox biography vcard\"})\n",
    "bobby_info =person_info.find_all(\"tr\")"
   ]
  },
  {
   "cell_type": "code",
   "execution_count": 11,
   "metadata": {},
   "outputs": [
    {
     "name": "stdout",
     "output_type": "stream",
     "text": [
      "Bobby\n",
      "\n",
      "Bobby at the iKon 2018 Continue Tour in Seoul\n",
      "/wiki/File:180818_iKON_2018_Continue_Tour_in_Seoul_%EB%B0%94%EB%B9%84_05_crop.jpg\n",
      "/wiki/IKon_2018_Continue_Tour\n",
      "/wiki/Seoul\n",
      "\n",
      "BornKim Ji-won (1995-12-21) December 21, 1995 (age 24)Seoul, South Korea\n",
      "/wiki/Seoul\n",
      "\n",
      "OccupationRappersingersongwriterproducer\n",
      "\n",
      "Musical career\n",
      "\n",
      "GenresK-pophip hop\n",
      "/wiki/K-pop\n",
      "/wiki/Hip_hop_music\n",
      "\n",
      "InstrumentsVocals\n",
      "\n",
      "Years active2013–present\n",
      "\n",
      "LabelsYG\n",
      "/wiki/YG_Entertainment\n",
      "\n",
      "Associated actsiKonYG FamilyMOBB\n",
      "/wiki/IKon\n",
      "/wiki/YG_Family\n",
      "/wiki/MOBB\n",
      "\n",
      "Websiteygfamily.com/\n",
      "http://ygfamily.com/artist/Main.asp?LANGDIV=K&ATYPE=2&ARTIDX=74\n",
      "\n",
      "\n",
      "\n",
      "Korean name\n",
      "\n",
      "Hangul김지원\n",
      "/wiki/Hangul\n",
      "https://en.wiktionary.org/wiki/%EA%B9%80\n",
      "https://en.wiktionary.org/wiki/%EC%A7%80\n",
      "https://en.wiktionary.org/wiki/%EC%9B%90\n",
      "\n",
      "Hanja金知元\n",
      "/wiki/Hanja\n",
      "https://en.wiktionary.org/wiki/%E9%87%91\n",
      "https://en.wiktionary.org/wiki/%E7%9F%A5\n",
      "https://en.wiktionary.org/wiki/%E5%85%83\n",
      "\n",
      "Revised RomanizationGim Ji-won\n",
      "/wiki/Revised_Romanization_of_Korean\n",
      "\n",
      "McCune–ReischauerKim Chiwŏn\n",
      "/wiki/McCune%E2%80%93Reischauer\n",
      "\n",
      "\n",
      "\n",
      "\n",
      "\n",
      "\n"
     ]
    }
   ],
   "source": [
    "for info in bobby_info:\n",
    "    print(info.get_text())\n",
    "    links=info.find_all('a')\n",
    "    for link in links:\n",
    "        print(link['href'])\n",
    "    print()"
   ]
  },
  {
   "cell_type": "code",
   "execution_count": null,
   "metadata": {},
   "outputs": [],
   "source": []
  }
 ],
 "metadata": {
  "kernelspec": {
   "display_name": "Python 3",
   "language": "python",
   "name": "python3"
  },
  "language_info": {
   "codemirror_mode": {
    "name": "ipython",
    "version": 3
   },
   "file_extension": ".py",
   "mimetype": "text/x-python",
   "name": "python",
   "nbconvert_exporter": "python",
   "pygments_lexer": "ipython3",
   "version": "3.8.1"
  }
 },
 "nbformat": 4,
 "nbformat_minor": 4
}
